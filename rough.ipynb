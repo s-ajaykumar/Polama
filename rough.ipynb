{
 "cells": [
  {
   "cell_type": "code",
   "execution_count": 3,
   "metadata": {},
   "outputs": [
    {
     "data": {
      "text/plain": [
       "'You are a cab booking assistant. You will be provided with a user question. Ask the required details to book a cab and book for him/her. \\n'"
      ]
     },
     "execution_count": 3,
     "metadata": {},
     "output_type": "execute_result"
    }
   ],
   "source": [
    "instruction = \"\"\"You are a cab booking assistant. You will be provided with a user question. Ask the required details to book a cab and book for him/her. \n",
    "\"\"\"\n",
    "instruction"
   ]
  },
  {
   "cell_type": "code",
   "execution_count": 7,
   "metadata": {},
   "outputs": [
    {
     "name": "stdout",
     "output_type": "stream",
     "text": [
      "{\n",
      "        \"address\": {\n",
      "            \"regionCode\": \"IN\",\n",
      "            \"addressLines\": [\"madurai\"]\n",
      "        }\n",
      "    }\n"
     ]
    }
   ],
   "source": [
    "drop_location = \"madurai\"\n",
    "a = f\"\"\"{{\n",
    "        \"address\": {{\n",
    "            \"regionCode\": \"IN\",\n",
    "            \"addressLines\": [\"{drop_location}\"]\n",
    "        }}\n",
    "    }}\"\"\"\n",
    "\n",
    "print(a)"
   ]
  },
  {
   "cell_type": "code",
   "execution_count": 6,
   "metadata": {},
   "outputs": [
    {
     "name": "stdout",
     "output_type": "stream",
     "text": [
      "{\"text\": \"I've taken note of the pickup and drop location\"}\n"
     ]
    }
   ],
   "source": [
    "text = \"I've taken note of the pickup and drop location\"\n",
    "\n",
    "# Correct way to include the text variable inside the f-string\n",
    "t = f'{{\"text\": \"{text}\"}}'\n",
    "\n",
    "print(t)\n"
   ]
  },
  {
   "cell_type": "code",
   "execution_count": 2,
   "metadata": {},
   "outputs": [],
   "source": [
    "from datetime import datetime\n"
   ]
  },
  {
   "cell_type": "code",
   "execution_count": 3,
   "metadata": {},
   "outputs": [
    {
     "name": "stdout",
     "output_type": "stream",
     "text": [
      "13:01:31.415685\n"
     ]
    }
   ],
   "source": [
    "current_time = datetime.now().time()\n",
    "print(current_time)"
   ]
  },
  {
   "cell_type": "code",
   "execution_count": 4,
   "metadata": {},
   "outputs": [
    {
     "ename": "TypeError",
     "evalue": "unsupported operand type(s) for -: 'datetime.time' and 'datetime.time'",
     "output_type": "error",
     "traceback": [
      "\u001b[0;31m---------------------------------------------------------------------------\u001b[0m",
      "\u001b[0;31mTypeError\u001b[0m                                 Traceback (most recent call last)",
      "Cell \u001b[0;32mIn[4], line 2\u001b[0m\n\u001b[1;32m      1\u001b[0m current_time2 \u001b[38;5;241m=\u001b[39m datetime\u001b[38;5;241m.\u001b[39mnow()\u001b[38;5;241m.\u001b[39mtime()\n\u001b[0;32m----> 2\u001b[0m diff \u001b[38;5;241m=\u001b[39m \u001b[43mcurrent_time2\u001b[49m\u001b[43m \u001b[49m\u001b[38;5;241;43m-\u001b[39;49m\u001b[43m \u001b[49m\u001b[43mcurrent_time\u001b[49m\n\u001b[1;32m      3\u001b[0m \u001b[38;5;28mprint\u001b[39m(diff)\n",
      "\u001b[0;31mTypeError\u001b[0m: unsupported operand type(s) for -: 'datetime.time' and 'datetime.time'"
     ]
    }
   ],
   "source": [
    "current_time2 = datetime.now().time()\n",
    "diff = current_time2 - current_time\n",
    "print(diff)"
   ]
  },
  {
   "cell_type": "code",
   "execution_count": 5,
   "metadata": {},
   "outputs": [
    {
     "name": "stdout",
     "output_type": "stream",
     "text": [
      "2024-12-20 13:03:25.156659\n",
      "0:00:00.000475\n"
     ]
    }
   ],
   "source": [
    "from datetime import datetime\n",
    "\n",
    "current_time = datetime.now()\n",
    "print(current_time)\n",
    "\n",
    "current_time2 = datetime.now()\n",
    "diff = current_time2 - current_time\n",
    "print(diff)"
   ]
  },
  {
   "cell_type": "code",
   "execution_count": 1,
   "metadata": {},
   "outputs": [],
   "source": [
    "import multiprocessing\n",
    "multiprocessing.cpu_count()"
   ]
  },
  {
   "cell_type": "code",
   "execution_count": 14,
   "metadata": {},
   "outputs": [
    {
     "name": "stdout",
     "output_type": "stream",
     "text": [
      "\"{\\\"name\\\" : \\\"ajay\\\"}\"\n"
     ]
    }
   ],
   "source": [
    "dic = \"\"\"{\"name\" : \"ajay\"}\"\"\"\n",
    "import json\n",
    "json_str = json.dumps(dic)\n",
    "print(json_str)\n",
    "with open(\"data.text\", \"w\") as f:\n",
    "    f.write(json_str)"
   ]
  },
  {
   "cell_type": "code",
   "execution_count": 24,
   "metadata": {},
   "outputs": [
    {
     "name": "stdout",
     "output_type": "stream",
     "text": [
      "ajay\n"
     ]
    }
   ],
   "source": [
    "dic2 = \"\"\"{\"name\" : \"ajay\"}\"\"\"\n",
    "json_str2 = json.loads(dic2)\n",
    "print(json_str2['name'])"
   ]
  },
  {
   "cell_type": "code",
   "execution_count": 26,
   "metadata": {},
   "outputs": [
    {
     "data": {
      "text/plain": [
       "int"
      ]
     },
     "execution_count": 26,
     "metadata": {},
     "output_type": "execute_result"
    }
   ],
   "source": [
    "a = \"\"\"{\"name\" : \"ajay\", \"time\" : 1000}\"\"\"\n",
    "j = json.loads(a)\n",
    "type(j['time'])"
   ]
  },
  {
   "cell_type": "code",
   "execution_count": 5,
   "metadata": {},
   "outputs": [],
   "source": [
    "import json\n",
    "a = \"\"\"{\"key\" : \"ajay\"}\"\"\"\n",
    "b = json.loads(a)"
   ]
  },
  {
   "cell_type": "code",
   "execution_count": 6,
   "metadata": {},
   "outputs": [
    {
     "name": "stdout",
     "output_type": "stream",
     "text": [
      "ajay\n"
     ]
    }
   ],
   "source": [
    "print(b['key'])"
   ]
  },
  {
   "cell_type": "code",
   "execution_count": null,
   "metadata": {},
   "outputs": [],
   "source": []
  }
 ],
 "metadata": {
  "kernelspec": {
   "display_name": ".venv",
   "language": "python",
   "name": "python3"
  },
  "language_info": {
   "codemirror_mode": {
    "name": "ipython",
    "version": 3
   },
   "file_extension": ".py",
   "mimetype": "text/x-python",
   "name": "python",
   "nbconvert_exporter": "python",
   "pygments_lexer": "ipython3",
   "version": "3.9.6"
  }
 },
 "nbformat": 4,
 "nbformat_minor": 2
}
